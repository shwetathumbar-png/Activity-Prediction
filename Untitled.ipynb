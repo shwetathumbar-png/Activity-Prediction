{
 "cells": [
  {
   "cell_type": "code",
   "execution_count": 1,
   "id": "698f84eb",
   "metadata": {},
   "outputs": [
    {
     "name": "stdout",
     "output_type": "stream",
     "text": [
      "Writing app.py\n"
     ]
    }
   ],
   "source": [
    "%%writefile app.py\n",
    "\n",
    "import streamlit as st\n",
    "import numpy as np\n",
    "import pandas as pd\n",
    "import joblib\n",
    "\n",
    "with open('final_model.joblib','rb') as file:\n",
    "    model = joblib.load(file)\n",
    "    \n",
    "def prediction(inp_list):\n",
    "    \n",
    "    pred = model.predict([inp_list])[0]\n",
    "    if pred == 0:\n",
    "        return 'Sitting on bed'\n",
    "    elif pred == 1:\n",
    "        return 'Sitting on Chair'\n",
    "    elif pred == 2:\n",
    "        return 'Lying on bed'\n",
    "    else:\n",
    "        'Ambulating'\n",
    "\n",
    "def main():\n",
    "    st.title('ACTIVITY PREDICTION FROM SENSOR DATA')\n",
    "    st subheader('''This application will predict the on going activity of the besis of sensor data provided. \n",
    "                 Fill the respective fields it will be predicted.''')\n",
    "    st.image('image.png')\n",
    "    \n",
    "    rfid = st.selectbox('Enter the RFID configuration settings',['config 1 (4 sensors)','config 2 (3 sensors)'])\n",
    "    rfid_e = (lambda x: 3 if x=='config 2 (3 sensors)' else 4)(rfid)\n",
    "    \n",
    "    ant_ID = st.dropbox('select the Antena ID',[1,2,3,4])\n",
    "    rssi = st.text_input('Enter the received signal strength indicator (RSSI)')\n",
    "    accv = st.text_input('Enter the vertical acceleration data from sensor')\n",
    "    accf = st.text_input('Enter the frontal acceleration data from sensor')\n",
    "    accl = st.text_input('Enter the lateral acceleration data from sensor')\n",
    "    \n",
    "    inp_data = [accf,accv,accl,ant_ID,rssi,rfid_e]\n",
    "    \n",
    "    if st.button('predict'):\n",
    "        response = prediction(inp_data)\n",
    "        st.success(response)\n",
    "        \n",
    "if __name__=='__main__':\n",
    "    main()\n",
    "    "
   ]
  }
 ],
 "metadata": {
  "kernelspec": {
   "display_name": "Python 3 (ipykernel)",
   "language": "python",
   "name": "python3"
  },
  "language_info": {
   "codemirror_mode": {
    "name": "ipython",
    "version": 3
   },
   "file_extension": ".py",
   "mimetype": "text/x-python",
   "name": "python",
   "nbconvert_exporter": "python",
   "pygments_lexer": "ipython3",
   "version": "3.11.7"
  }
 },
 "nbformat": 4,
 "nbformat_minor": 5
}
